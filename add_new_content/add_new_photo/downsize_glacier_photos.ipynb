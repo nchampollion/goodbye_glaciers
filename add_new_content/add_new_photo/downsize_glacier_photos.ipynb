{
 "cells": [
  {
   "cell_type": "code",
   "execution_count": 1,
   "id": "f20c81f9-2564-4f14-854e-1c1628bf7979",
   "metadata": {},
   "outputs": [],
   "source": [
    "from PIL import Image\n",
    "import os"
   ]
  },
  {
   "cell_type": "code",
   "execution_count": 2,
   "id": "9455d64d-b94b-41a7-b9c4-71d923ca9122",
   "metadata": {},
   "outputs": [],
   "source": [
    "def resize_image(filename, input_folder, output_folder, target_size_kb=500):\n",
    "    \"\"\"Resize image to meet target size by adjusting resolution, not quality.\"\"\"\n",
    "    filepath = os.path.join(input_folder, filename)\n",
    "    output_path = os.path.join(output_folder, filename)\n",
    "\n",
    "    try:\n",
    "        image = Image.open(filepath)\n",
    "        image = image.convert(\"RGB\")  # Convert to RGB (ensures compatibility)\n",
    "\n",
    "        # Save once at full quality to check if resizing is needed\n",
    "        image.save(output_path, \"JPEG\", quality=100, optimize=True)\n",
    "        if os.path.getsize(output_path) / 1024 <= target_size_kb:\n",
    "            print(f\"✔ {filename}: Already under {target_size_kb}KB\")\n",
    "            return\n",
    "\n",
    "        # Start resizing process\n",
    "        width, height = image.size\n",
    "        scale_factor = 0.95  # Start with a 90% scale reduction\n",
    "\n",
    "        while os.path.getsize(output_path) / 1024 > target_size_kb:\n",
    "            new_size = (int(width * scale_factor), int(height * scale_factor))\n",
    "            resized_image = image.resize(new_size, Image.LANCZOS)\n",
    "            resized_image.save(output_path, \"JPEG\", quality=100, optimize=True)\n",
    "\n",
    "            width, height = new_size  # Update new size for next iteration\n",
    "            scale_factor -= 0.05  # Reduce size in steps of 5%\n",
    "            if min(width, height) < 300:  # Avoid excessive downsizing\n",
    "                break\n",
    "\n",
    "        print(f\"✔ {filename}: Resized to {os.path.getsize(output_path) / 1024:.2f} KB\")\n",
    "\n",
    "    except Exception as e:\n",
    "        print(f\"❌ Error processing {filename}: {e}\")\n",
    "\n",
    "def resize_images(input_folder, output_folder, target_size_kb=500):\n",
    "    \"\"\"Process all images in the input folder and resize them to the target size.\"\"\"\n",
    "    if not os.path.exists(output_folder):\n",
    "        os.makedirs(output_folder)\n",
    "\n",
    "    for filename in os.listdir(input_folder):\n",
    "        if filename.lower().endswith((\"jpg\", \"jpeg\", \"png\")):\n",
    "            resize_image(filename, input_folder, output_folder, target_size_kb)"
   ]
  },
  {
   "cell_type": "code",
   "execution_count": 3,
   "id": "4d49da13-5445-4140-810e-9e4821aa3e1e",
   "metadata": {},
   "outputs": [
    {
     "name": "stdout",
     "output_type": "stream",
     "text": [
      "✔ gw_handabdruck_poster-1_final-1_dina3.png: Resized to 270.24 KB\n",
      "✔ histogram_deglaciation_comparison_two_threshold_options_de.png: Already under 500KB\n",
      "✔ gw_handabdruck_poster-3_final-1_dina3.png: Resized to 312.65 KB\n",
      "✔ what_can_i_do_to_enlarge_my_handprint_english.jpg: Resized to 372.62 KB\n",
      "✔ histogram_deglaciation_comparison_two_threshold_options_it.png: Already under 500KB\n",
      "✔ histogram_deglaciation_comparison_two_threshold_options_en.png: Already under 500KB\n",
      "✔ landing_page_hef_picture.png: Resized to 361.66 KB\n",
      "✔ gw_handabdruck_poster-4_final-1_dina3.png: Resized to 337.11 KB\n",
      "✔ histogram_deglaciation_comparison_two_threshold_options_fr.png: Already under 500KB\n",
      "✔ gw_handabdruck_poster-2_final-1_dina3.png: Resized to 312.17 KB\n"
     ]
    }
   ],
   "source": [
    "# define folder where the original images can be found\n",
    "input_folder = \"/home/patrick/UNI/Projects/Goodbye_glaciers/github/goodbye_glaciers/assets/images/others/\"\n",
    "output_folder = \"/home/patrick/UNI/Projects/Goodbye_glaciers/glacier_photos/all_compressed_main_image/\"\n",
    "\n",
    "resize_images(input_folder, output_folder)"
   ]
  },
  {
   "cell_type": "code",
   "execution_count": null,
   "id": "e0756ea1-7d05-428f-8d84-b4c6e9205bf8",
   "metadata": {},
   "outputs": [],
   "source": []
  }
 ],
 "metadata": {
  "kernelspec": {
   "display_name": "Python [conda env:oggm-3dviz]",
   "language": "python",
   "name": "conda-env-oggm-3dviz-py"
  },
  "language_info": {
   "codemirror_mode": {
    "name": "ipython",
    "version": 3
   },
   "file_extension": ".py",
   "mimetype": "text/x-python",
   "name": "python",
   "nbconvert_exporter": "python",
   "pygments_lexer": "ipython3",
   "version": "3.12.7"
  }
 },
 "nbformat": 4,
 "nbformat_minor": 5
}
